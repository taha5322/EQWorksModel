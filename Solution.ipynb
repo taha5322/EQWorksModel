{
 "cells": [
  {
   "cell_type": "code",
   "execution_count": 13,
   "metadata": {
    "executionInfo": {
     "elapsed": 218,
     "status": "ok",
     "timestamp": 1642106665856,
     "user": {
      "displayName": "taha Siddiqui",
      "photoUrl": "https://lh3.googleusercontent.com/a/default-user=s64",
      "userId": "08863626860356312005"
     },
     "user_tz": 300
    },
    "id": "_wIuK42lRirc"
   },
   "outputs": [],
   "source": [
    "import pandas as pd\n",
    "import numpy as np\n",
    "import matplotlib.pyplot as plt"
   ]
  },
  {
   "cell_type": "code",
   "execution_count": 12,
   "metadata": {
    "colab": {
     "base_uri": "https://localhost:8080/"
    },
    "executionInfo": {
     "elapsed": 700,
     "status": "ok",
     "timestamp": 1642106666799,
     "user": {
      "displayName": "taha Siddiqui",
      "photoUrl": "https://lh3.googleusercontent.com/a/default-user=s64",
      "userId": "08863626860356312005"
     },
     "user_tz": 300
    },
    "id": "1jNih--jSg97",
    "outputId": "2fc22918-1173-4133-df3f-e47497e52d64"
   },
   "outputs": [
    {
     "ename": "ModuleNotFoundError",
     "evalue": "No module named 'google.colab'",
     "output_type": "error",
     "traceback": [
      "\u001b[1;31m---------------------------------------------------------------------------\u001b[0m",
      "\u001b[1;31mModuleNotFoundError\u001b[0m                       Traceback (most recent call last)",
      "\u001b[1;32m<ipython-input-12-d53ba2bc6ded>\u001b[0m in \u001b[0;36m<module>\u001b[1;34m\u001b[0m\n\u001b[0;32m      1\u001b[0m \u001b[1;31m# NOTE: ONLY NEEDED FOR GOOGLE COLLAB\u001b[0m\u001b[1;33m\u001b[0m\u001b[1;33m\u001b[0m\u001b[1;33m\u001b[0m\u001b[0m\n\u001b[1;32m----> 2\u001b[1;33m \u001b[1;32mfrom\u001b[0m \u001b[0mgoogle\u001b[0m\u001b[1;33m.\u001b[0m\u001b[0mcolab\u001b[0m \u001b[1;32mimport\u001b[0m \u001b[0mdrive\u001b[0m\u001b[1;33m\u001b[0m\u001b[1;33m\u001b[0m\u001b[0m\n\u001b[0m\u001b[0;32m      3\u001b[0m \u001b[0mdrive\u001b[0m\u001b[1;33m.\u001b[0m\u001b[0mmount\u001b[0m\u001b[1;33m(\u001b[0m\u001b[1;34m'/content/drive'\u001b[0m\u001b[1;33m)\u001b[0m\u001b[1;33m\u001b[0m\u001b[1;33m\u001b[0m\u001b[0m\n",
      "\u001b[1;31mModuleNotFoundError\u001b[0m: No module named 'google.colab'"
     ]
    }
   ],
   "source": [
    "# NOTE: ONLY NEEDED FOR GOOGLE COLLAB\n",
    "from google.colab import drive\n",
    "drive.mount('/content/drive')"
   ]
  },
  {
   "cell_type": "code",
   "execution_count": 10,
   "metadata": {
    "colab": {
     "base_uri": "https://localhost:8080/"
    },
    "executionInfo": {
     "elapsed": 322,
     "status": "ok",
     "timestamp": 1642106668793,
     "user": {
      "displayName": "taha Siddiqui",
      "photoUrl": "https://lh3.googleusercontent.com/a/default-user=s64",
      "userId": "08863626860356312005"
     },
     "user_tz": 300
    },
    "id": "Hr4v5NkjSj5z",
    "outputId": "66fb6779-e186-4b33-87ba-e374e5004d26"
   },
   "outputs": [
    {
     "name": "stdout",
     "output_type": "stream",
     "text": [
      "[WinError 3] The system cannot find the path specified: \"'/content/drive/My Drive/EQWorksInterview'\"\n",
      "C:\\Users\\tahas\\Downloads\\EQWorksInterview\\EQWorksInterview\n"
     ]
    },
    {
     "name": "stderr",
     "output_type": "stream",
     "text": [
      "'ls' is not recognized as an internal or external command,\n",
      "operable program or batch file.\n"
     ]
    }
   ],
   "source": [
    "# NOTE: ONLY for google drive and may be a different root directory and may not be necessary \n",
    "%cd '/content/drive/My Drive/EQWorksInterview'\n",
    "!ls"
   ]
  },
  {
   "cell_type": "code",
   "execution_count": 14,
   "metadata": {
    "colab": {
     "base_uri": "https://localhost:8080/"
    },
    "executionInfo": {
     "elapsed": 182,
     "status": "ok",
     "timestamp": 1642106670143,
     "user": {
      "displayName": "taha Siddiqui",
      "photoUrl": "https://lh3.googleusercontent.com/a/default-user=s64",
      "userId": "08863626860356312005"
     },
     "user_tz": 300
    },
    "id": "uQE-s1UtSt0z",
    "outputId": "319fd2ea-6bfb-4ebd-927e-ec2e5d5681d1"
   },
   "outputs": [
    {
     "name": "stdout",
     "output_type": "stream",
     "text": [
      "  POIID   Latitude   Longitude\n",
      "0  POI1  53.546167 -113.485734\n",
      "1  POI2  53.546167 -113.485734\n",
      "2  POI3  45.521629  -73.566024\n",
      "3  POI4  45.224830  -63.232729\n"
     ]
    }
   ],
   "source": [
    "# Taking in data\n",
    "dataset = pd.read_csv('DataSample.csv')\n",
    "poi_dataset = pd.read_csv('POIList.csv')\n",
    "print((poi_dataset))"
   ]
  },
  {
   "cell_type": "code",
   "execution_count": 15,
   "metadata": {
    "executionInfo": {
     "elapsed": 212,
     "status": "ok",
     "timestamp": 1642106672553,
     "user": {
      "displayName": "taha Siddiqui",
      "photoUrl": "https://lh3.googleusercontent.com/a/default-user=s64",
      "userId": "08863626860356312005"
     },
     "user_tz": 300
    },
    "id": "T7laBzPtSyiN"
   },
   "outputs": [],
   "source": [
    "# Removing \"suspicious\" data\n",
    "dataset = dataset.drop_duplicates(subset=['Latitude', 'Longitude', ' TimeSt'], keep=False)"
   ]
  },
  {
   "cell_type": "code",
   "execution_count": 17,
   "metadata": {
    "executionInfo": {
     "elapsed": 139,
     "status": "ok",
     "timestamp": 1642106674666,
     "user": {
      "displayName": "taha Siddiqui",
      "photoUrl": "https://lh3.googleusercontent.com/a/default-user=s64",
      "userId": "08863626860356312005"
     },
     "user_tz": 300
    },
    "id": "Cisgb8XkVC14"
   },
   "outputs": [],
   "source": [
    "import math\n",
    "from geopy import distance\n",
    "\n",
    "# Used to return geographic distsance between two coordinates\n",
    "def getDistance(lat1, lon1, lat2, lon2, unit):\n",
    "    coor1 = (lat1, lon1)\n",
    "    coor2 = (lat2, lon2)\n",
    "\n",
    "    return distance.distance(coor1, coor2).km\n",
    "\n",
    "# Used to return the closest POI for a given coordinate\n",
    "def returnPOI(arr):\n",
    "  lat1 = arr[0]\n",
    "  lon1 = arr[1]\n",
    "\n",
    "  distances_to_POI = {}\n",
    "  for index, row in poi_dataset.iterrows():\n",
    "    id = (row[\"POIID\"]).replace(\" \",\"\")\n",
    "    curr_latitude = (row[\" Latitude\"])\n",
    "    curr_longitude = (row[\"Longitude\"])\n",
    "    distance_to_poi = getDistance(lat1, lon1, curr_latitude, curr_longitude, \"K\")\n",
    "    distances_to_POI[id] = distance_to_poi\n",
    "  \n",
    "  min_key = (min(distances_to_POI, key=distances_to_POI.get))\n",
    "  return (distances_to_POI[min_key], min_key)"
   ]
  },
  {
   "cell_type": "markdown",
   "metadata": {
    "id": "aYy_jJY_W-jh"
   },
   "source": []
  },
  {
   "cell_type": "code",
   "execution_count": 18,
   "metadata": {
    "executionInfo": {
     "elapsed": 33809,
     "status": "ok",
     "timestamp": 1642106769649,
     "user": {
      "displayName": "taha Siddiqui",
      "photoUrl": "https://lh3.googleusercontent.com/a/default-user=s64",
      "userId": "08863626860356312005"
     },
     "user_tz": 300
    },
    "id": "KxjCLKQfg_uY"
   },
   "outputs": [],
   "source": [
    "# Calculating the closest POI for each request\n",
    "\n",
    "x=dataset.iloc[:,5:7].values\n",
    "POIlis = []\n",
    "distances = []\n",
    "for element in x:\n",
    "  (currDistance,shortestPOI) = returnPOI(element)\n",
    "  POIlis.append(shortestPOI)\n",
    "  distances.append(currDistance)\n"
   ]
  },
  {
   "cell_type": "code",
   "execution_count": 19,
   "metadata": {
    "executionInfo": {
     "elapsed": 201,
     "status": "ok",
     "timestamp": 1642106773618,
     "user": {
      "displayName": "taha Siddiqui",
      "photoUrl": "https://lh3.googleusercontent.com/a/default-user=s64",
      "userId": "08863626860356312005"
     },
     "user_tz": 300
    },
    "id": "vWTL7yg0qXex"
   },
   "outputs": [],
   "source": [
    "# Assigning each request the closest POI and distance to the POI\n",
    "dataset.insert(7, \"POI\", POIlis )\n",
    "dataset.insert(8, \"distance\", distances )"
   ]
  },
  {
   "cell_type": "code",
   "execution_count": 20,
   "metadata": {
    "executionInfo": {
     "elapsed": 124,
     "status": "ok",
     "timestamp": 1642106787127,
     "user": {
      "displayName": "taha Siddiqui",
      "photoUrl": "https://lh3.googleusercontent.com/a/default-user=s64",
      "userId": "08863626860356312005"
     },
     "user_tz": 300
    },
    "id": "-IrBdYLxq6ax"
   },
   "outputs": [],
   "source": [
    "# Organizing requests corresponding to their POI group \n",
    "DataFrames_dict = {}\n",
    "for index,row in poi_dataset.iterrows():\n",
    "  curr_poi = row[\"POIID\"]\n",
    "  currDataFrame = dataset[dataset.POI == curr_poi]\n",
    "  DataFrames_dict[curr_poi] = currDataFrame\n"
   ]
  },
  {
   "cell_type": "code",
   "execution_count": 21,
   "metadata": {
    "colab": {
     "base_uri": "https://localhost:8080/"
    },
    "executionInfo": {
     "elapsed": 133,
     "status": "ok",
     "timestamp": 1642106816497,
     "user": {
      "displayName": "taha Siddiqui",
      "photoUrl": "https://lh3.googleusercontent.com/a/default-user=s64",
      "userId": "08863626860356312005"
     },
     "user_tz": 300
    },
    "id": "Ln4Ne0q2q6WW",
    "outputId": "29ae89e6-279a-4966-acf7-77f04f2e7d4b"
   },
   "outputs": [
    {
     "name": "stdout",
     "output_type": "stream",
     "text": [
      "{'POI1': 301.1041430390966, 'POI2': 0, 'POI3': 452.79513736084493, 'POI4': 516.1163246993544}\n"
     ]
    }
   ],
   "source": [
    "# Calculating the mean of all distances from request to POI for every POI\n",
    "Means_dict={}\n",
    "for POI, dataframe in DataFrames_dict.items():\n",
    "  if np.isnan(dataframe[\"distance\"].mean()):\n",
    "    Means_dict[POI] = 0\n",
    "  else:\n",
    "    Means_dict[POI] = dataframe[\"distance\"].mean()\n",
    "\n",
    "print(Means_dict)"
   ]
  },
  {
   "cell_type": "code",
   "execution_count": 22,
   "metadata": {
    "colab": {
     "base_uri": "https://localhost:8080/"
    },
    "executionInfo": {
     "elapsed": 157,
     "status": "ok",
     "timestamp": 1642106966766,
     "user": {
      "displayName": "taha Siddiqui",
      "photoUrl": "https://lh3.googleusercontent.com/a/default-user=s64",
      "userId": "08863626860356312005"
     },
     "user_tz": 300
    },
    "id": "jK3fZqeLEdtM",
    "outputId": "f636fdf9-423a-4bd1-fc91-e3eec7cc2b11"
   },
   "outputs": [
    {
     "name": "stdout",
     "output_type": "stream",
     "text": [
      "{'POI1': 388.80401983377766, 'POI2': nan, 'POI3': 224.4312193678686, 'POI4': 1510.305291650465}\n"
     ]
    }
   ],
   "source": [
    "# Calculating the standard deviation of distance data for every POI \n",
    "# Standard deviations\n",
    "Standard_deviation_dict = {}\n",
    "for POI, dataframe in DataFrames_dict.items():\n",
    "  Standard_deviation_dict[POI] = dataframe[\"distance\"].std()\n",
    "\n",
    "print(Standard_deviation_dict)"
   ]
  },
  {
   "cell_type": "code",
   "execution_count": 23,
   "metadata": {
    "colab": {
     "base_uri": "https://localhost:8080/"
    },
    "executionInfo": {
     "elapsed": 132,
     "status": "ok",
     "timestamp": 1642106972728,
     "user": {
      "displayName": "taha Siddiqui",
      "photoUrl": "https://lh3.googleusercontent.com/a/default-user=s64",
      "userId": "08863626860356312005"
     },
     "user_tz": 300
    },
    "id": "1l4TiPqcq6Lo",
    "outputId": "915e120a-5199-47b9-8ae9-aafb4232fc0d"
   },
   "outputs": [
    {
     "name": "stdout",
     "output_type": "stream",
     "text": [
      "{'POI1': 11541.82947035032, 'POI2': 0, 'POI3': 1500.453242009817, 'POI4': 9365.335692650428}\n"
     ]
    }
   ],
   "source": [
    "# Calculating radius of every POI if we map it into a circle\n",
    "Radius_dict = {}\n",
    "for POI, dataframe in DataFrames_dict.items():\n",
    "  if not dataframe.empty:\n",
    "    Radius_dict[POI] = max( dataframe[\"distance\"] )\n",
    "    # print(max( dataframe[\"distance\"] ))\n",
    "  else:\n",
    "    Radius_dict[POI] = 0\n",
    "  # print(dataframe[\"distance\"])\n",
    "\n",
    "print(Radius_dict)"
   ]
  },
  {
   "cell_type": "code",
   "execution_count": 24,
   "metadata": {
    "colab": {
     "base_uri": "https://localhost:8080/"
    },
    "executionInfo": {
     "elapsed": 168,
     "status": "ok",
     "timestamp": 1642106990832,
     "user": {
      "displayName": "taha Siddiqui",
      "photoUrl": "https://lh3.googleusercontent.com/a/default-user=s64",
      "userId": "08863626860356312005"
     },
     "user_tz": 300
    },
    "id": "cdYjvQSqq51Y",
    "outputId": "3b07434f-f977-4c46-fadb-45c1cccfbf8a"
   },
   "outputs": [
    {
     "name": "stdout",
     "output_type": "stream",
     "text": [
      "{'POI1': 2.090304689925981e-05, 'POI2': 0, 'POI3': 0.0012446174816043488, 'POI4': 1.531496047948358e-06}\n"
     ]
    }
   ],
   "source": [
    "# Calculating the density of each POI using (requests/area)\n",
    "Density_dict = {}\n",
    "for POI, dataframe in DataFrames_dict.items():\n",
    "  if Radius_dict[POI] != 0:\n",
    "    Density_dict[POI] = len(dataframe[\"distance\"]) / ( math.pi * Radius_dict[POI]**2 )\n",
    "  else:\n",
    "    Density_dict[POI] = 0\n",
    "\n",
    "print(Density_dict)"
   ]
  },
  {
   "cell_type": "code",
   "execution_count": 25,
   "metadata": {
    "colab": {
     "base_uri": "https://localhost:8080/"
    },
    "executionInfo": {
     "elapsed": 171,
     "status": "ok",
     "timestamp": 1642106995677,
     "user": {
      "displayName": "taha Siddiqui",
      "photoUrl": "https://lh3.googleusercontent.com/a/default-user=s64",
      "userId": "08863626860356312005"
     },
     "user_tz": 300
    },
    "id": "xaFIMCr_9SqQ",
    "outputId": "5972ea5b-90b0-4337-f6f6-7bce4d253b9c"
   },
   "outputs": [
    {
     "name": "stdout",
     "output_type": "stream",
     "text": [
      "{'POI1': 8748, 'POI2': 0, 'POI3': 8803, 'POI4': 422}\n"
     ]
    }
   ],
   "source": [
    "# Getting the total number of requests for each POI using \n",
    "Total_Requests_dict = {}\n",
    "for POI, dataframe in DataFrames_dict.items():\n",
    "  if Radius_dict[POI] != 0:\n",
    "    Total_Requests_dict[POI] = len(dataframe[\"distance\"])\n",
    "  else:\n",
    "    Total_Requests_dict[POI] = len(dataframe[\"distance\"])\n",
    "\n",
    "print(Total_Requests_dict)"
   ]
  },
  {
   "cell_type": "code",
   "execution_count": 26,
   "metadata": {
    "id": "ZxThovFPxLrI"
   },
   "outputs": [],
   "source": [
    "# 4a) Modeling Popularity"
   ]
  },
  {
   "cell_type": "code",
   "execution_count": 27,
   "metadata": {
    "colab": {
     "base_uri": "https://localhost:8080/"
    },
    "executionInfo": {
     "elapsed": 173,
     "status": "ok",
     "timestamp": 1642107003536,
     "user": {
      "displayName": "taha Siddiqui",
      "photoUrl": "https://lh3.googleusercontent.com/a/default-user=s64",
      "userId": "08863626860356312005"
     },
     "user_tz": 300
    },
    "id": "dXctYTer-Nli",
    "outputId": "4170d8ca-58ed-490d-a391-497271e119c2"
   },
   "outputs": [
    {
     "name": "stdout",
     "output_type": "stream",
     "text": [
      "{'POI1': 0.993752129955697, 'POI2': 0.0, 'POI3': 1.0, 'POI4': 0.047938202885379984}\n"
     ]
    }
   ],
   "source": [
    "# Calculating the standardized number of requests for each POI between 0 and 1\n",
    "standardized_total_requests_dict = {}\n",
    "\n",
    "max_requests = Total_Requests_dict[max(Total_Requests_dict, key=Total_Requests_dict.get)]\n",
    "min_requests = Total_Requests_dict[min(Total_Requests_dict, key=Total_Requests_dict.get)]\n",
    "\n",
    "for POI, total_requests in Total_Requests_dict.items():\n",
    "  zi = ( total_requests - min_requests ) / (max_requests - min_requests)\n",
    "  # # transforming to become -10 and +10\n",
    "  # zi = (zi - 0.5) * 20\n",
    "  if not (zi == None):\n",
    "    standardized_total_requests_dict[POI] = zi\n",
    "  \n",
    "print(standardized_total_requests_dict)"
   ]
  },
  {
   "cell_type": "code",
   "execution_count": 28,
   "metadata": {
    "colab": {
     "base_uri": "https://localhost:8080/"
    },
    "executionInfo": {
     "elapsed": 157,
     "status": "ok",
     "timestamp": 1642107009689,
     "user": {
      "displayName": "taha Siddiqui",
      "photoUrl": "https://lh3.googleusercontent.com/a/default-user=s64",
      "userId": "08863626860356312005"
     },
     "user_tz": 300
    },
    "id": "YWDoWNS_bWmV",
    "outputId": "5290d67a-507e-466c-cae5-40139ac32d6a"
   },
   "outputs": [
    {
     "name": "stdout",
     "output_type": "stream",
     "text": [
      "{'POI1': 0.5834036410580392, 'POI2': 0.0, 'POI3': 0.8773121788476753, 'POI4': 1.0}\n"
     ]
    }
   ],
   "source": [
    "# Calculating the standardized average distance between 0 and 1 for every POI in dataset\n",
    "standardized_average_distances_dict = {}\n",
    "\n",
    "max_mean = Means_dict[max(Means_dict, key=Means_dict.get)]\n",
    "min_mean = Means_dict[min(Means_dict, key = Means_dict.get)]\n",
    "\n",
    "for POI, mean in Means_dict.items():\n",
    "  zi = ( mean - min_mean ) / (max_mean - min_mean)\n",
    "  # # transforming to become -10 and +10\n",
    "  # zi = (zi - 0.5) * 20\n",
    "  if not (zi == None):\n",
    "    standardized_average_distances_dict[POI] = zi\n",
    "  \n",
    "print(standardized_average_distances_dict)\n",
    "\n",
    "#{'POI1': 0.0, 'POI2': nan, 'POI3': 0.7054995356562442, 'POI4': 1.0}"
   ]
  },
  {
   "cell_type": "code",
   "execution_count": 29,
   "metadata": {
    "executionInfo": {
     "elapsed": 182,
     "status": "ok",
     "timestamp": 1642107011295,
     "user": {
      "displayName": "taha Siddiqui",
      "photoUrl": "https://lh3.googleusercontent.com/a/default-user=s64",
      "userId": "08863626860356312005"
     },
     "user_tz": 300
    },
    "id": "sxWtC_DNyej5"
   },
   "outputs": [],
   "source": [
    "# standardized_distances"
   ]
  },
  {
   "cell_type": "code",
   "execution_count": 30,
   "metadata": {
    "colab": {
     "base_uri": "https://localhost:8080/"
    },
    "executionInfo": {
     "elapsed": 161,
     "status": "ok",
     "timestamp": 1642107012877,
     "user": {
      "displayName": "taha Siddiqui",
      "photoUrl": "https://lh3.googleusercontent.com/a/default-user=s64",
      "userId": "08863626860356312005"
     },
     "user_tz": 300
    },
    "id": "TJRkrnZGc8Ah",
    "outputId": "d2cf9538-9ebc-47e5-c6ba-f12a9ace87ad"
   },
   "outputs": [
    {
     "name": "stdout",
     "output_type": "stream",
     "text": [
      "{'POI1': 0.01679475598584327, 'POI2': 0.0, 'POI3': 1.0, 'POI4': 0.001230495369528487}\n"
     ]
    }
   ],
   "source": [
    "# Getting a standardixed average density between 0 and 1 for every POI in dataset\n",
    "standardized_densities_dict = {}\n",
    "\n",
    "max_density = Density_dict[max(Density_dict, key=Density_dict.get)]\n",
    "min_density = Density_dict[min(Density_dict, key = Density_dict.get)]\n",
    "\n",
    "for POI, density in Density_dict.items():\n",
    "  zi = ( density - min_density ) / (max_density - min_density)\n",
    "  # transforming to become -10 and +10\n",
    "  # zi = (zi - 0.5) * 20\n",
    "  standardized_densities_dict[POI] = zi\n",
    "print(standardized_densities_dict)"
   ]
  },
  {
   "cell_type": "code",
   "execution_count": 31,
   "metadata": {
    "executionInfo": {
     "elapsed": 161,
     "status": "ok",
     "timestamp": 1642107525447,
     "user": {
      "displayName": "taha Siddiqui",
      "photoUrl": "https://lh3.googleusercontent.com/a/default-user=s64",
      "userId": "08863626860356312005"
     },
     "user_tz": 300
    },
    "id": "xlCCgeQIj2r0"
   },
   "outputs": [],
   "source": [
    "# Calculating the relative popularity score for each POI and storing it in the 'popularities' dict\n",
    "standardized_distances = list(standardized_average_distances_dict.values())\n",
    "standardized_densities = list(standardized_densities_dict.values())\n",
    "standardized_total_requests = list(standardized_total_requests_dict.values())\n",
    "\n",
    "final_df = pd.DataFrame({\"distances\": standardized_distances, \"densities\": standardized_densities, \"total_requests\":standardized_total_requests})\n",
    "new_popularities = {}\n",
    "for index, row in final_df.iterrows():\n",
    "  # print(index, \" \", row['distances'], \" \", row['densities'], row[\"total_requests\"])\n",
    "  \n",
    "  # transforming to become -10 and +10\n",
    "  distance_score = ( (1- row['distances']) - 0.5) * 1.5\n",
    "  density_score = (row['densities'] - 0.5) * 6.3\n",
    "  requests_score = (row['total_requests'] - 0.5) * 12.2\n",
    "\n",
    "  new_popularity_score = distance_score + density_score + requests_score\n",
    "  new_popularities[ f\"POI{index+1}\" ] = new_popularity_score"
   ]
  },
  {
   "cell_type": "code",
   "execution_count": 32,
   "metadata": {
    "colab": {
     "base_uri": "https://localhost:8080/"
    },
    "executionInfo": {
     "elapsed": 139,
     "status": "ok",
     "timestamp": 1642107526447,
     "user": {
      "displayName": "taha Siddiqui",
      "photoUrl": "https://lh3.googleusercontent.com/a/default-user=s64",
      "userId": "08863626860356312005"
     },
     "user_tz": 300
    },
    "id": "zyQY1HPvk_eR",
    "outputId": "d476cbd6-5e38-469f-a1f1-438bbbed6c70"
   },
   "outputs": [
    {
     "name": "stdout",
     "output_type": "stream",
     "text": [
      "new: {'POI1': 2.854477486583256, 'POI2': -8.5, 'POI3': 8.684031731728487, 'POI4': -9.407401803970334}\n"
     ]
    }
   ],
   "source": [
    "print(\"new:\",new_popularities)\n",
    "# Note: the popularity values are a bit skewed on both ends but that's due to the\n",
    "# there only bening 4 POI's. As this data gets scaled, it will be a much better\n",
    "# indicator of 'relative popularity' and will be less skewed."
   ]
  }
 ],
 "metadata": {
  "colab": {
   "authorship_tag": "ABX9TyOc7cGlCCyg3BCWzuLHAWbO",
   "collapsed_sections": [],
   "name": "Solution.ipynb",
   "provenance": []
  },
  "kernelspec": {
   "display_name": "Python 3",
   "language": "python",
   "name": "python3"
  },
  "language_info": {
   "codemirror_mode": {
    "name": "ipython",
    "version": 3
   },
   "file_extension": ".py",
   "mimetype": "text/x-python",
   "name": "python",
   "nbconvert_exporter": "python",
   "pygments_lexer": "ipython3",
   "version": "3.8.8"
  }
 },
 "nbformat": 4,
 "nbformat_minor": 1
}
